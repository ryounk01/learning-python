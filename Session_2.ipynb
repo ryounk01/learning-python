{
 "cells": [
  {
   "cell_type": "markdown",
   "metadata": {},
   "source": [
    "# Update your repository with new stuff\n",
    "#### Note this is technically not good practice here, but we'll worry about that later\n",
    "\n",
    "- Open git bash to your learning python folder\n",
    "\n",
    "- git checkout -b session2\n",
    "\n",
    "- git remote add upstream https://github.com/tne-lab/learning-python\n",
    "\n",
    "- git fetch upstream\n",
    "\n",
    "- git merge upstream/master --strategy-option theirs\n",
    "\n",
    "### Open Jupyter Notebook and open Session_2.ipynb\n",
    "\n",
    "\n",
    "# Today we will look at events first\n"
   ]
  },
  {
   "cell_type": "code",
   "execution_count": 10,
   "metadata": {},
   "outputs": [
    {
     "name": "stdout",
     "output_type": "stream",
     "text": [
      "loading events...\n",
      "events loaded in!\n",
      "Loading continuous data...\n",
      "data loaded in!\n"
     ]
    }
   ],
   "source": [
    "import os\n",
    "import OpenEphys\n",
    "\n",
    "cwd = os.getcwd() # Gets your current working directory\n",
    "\n",
    "pathToEvents = cwd + '\\\\data\\\\Sample_Data\\\\all_channels.events' # All events are stored here\n",
    " \n",
    "allEvents = OpenEphys.load(pathToEvents)\n",
    "print('events loaded in!')\n",
    "\n",
    "pathToData = cwd + '\\\\data\\\\Sample_Data\\\\100_CH1.continuous' # You can change this to look at other channels!\n",
    " \n",
    "data = OpenEphys.load(pathToData)\n",
    "print('data loaded in!')"
   ]
  },
  {
   "cell_type": "code",
   "execution_count": 9,
   "metadata": {},
   "outputs": [
    {
     "name": "stdout",
     "output_type": "stream",
     "text": [
      "<class 'dict'>\n",
      "header\n",
      "channel\n",
      "timestamps\n",
      "eventType\n",
      "nodeId\n",
      "eventId\n",
      "recordingNumber\n",
      "sampleNum\n"
     ]
    }
   ],
   "source": [
    "# What is events?\n",
    "print(type(allEvents))\n",
    "\n",
    "# Lets look at what is stored in here.\n",
    "for key in allEvents.keys():\n",
    "    print(key)"
   ]
  },
  {
   "cell_type": "markdown",
   "metadata": {},
   "source": [
    "## Build a class to store event data"
   ]
  },
  {
   "cell_type": "code",
   "execution_count": 47,
   "metadata": {},
   "outputs": [],
   "source": [
    "import numpy as np\n",
    "\n",
    "class Events:\n",
    "    # Put code here (use Con class below as a reference!)\n",
    "    def __init__(self, data, tsStart):\n",
    "        self.eventId = data['eventId'] # Event id holds info about the event. TTL event: 1 = On, 0 = Off\n",
    "        self.nodeId = data['nodeId'] # What node (Plugin) did this event come from?\n",
    "        self.eventType = data['eventType']\n",
    "        self.channel = data['channel']\n",
    "\n",
    "        self.ts = []\n",
    "        for t in data['timestamps']:\n",
    "            self.ts.append(t - tsStart) # Zero out the timestamp to correspond with continuous data\n",
    "\n",
    "class Con:\n",
    "    def __init__(self, data):\n",
    "        self.data = data['data'] # Volatage data\n",
    "        self.fs = float(data['header']['sampleRate']) # Sample Rate\n",
    "        self.interpTs(data['timestamps']) # Interpolate timestamps for all data points (Only has 1 time stamp for each buffer of 1024 data points)\n",
    "\n",
    "    def interpTs(self, ts):\n",
    "        tsStart = ts[0]\n",
    "        tsEnd = ts[len(ts)-1]\n",
    "        self.ts = np.linspace(tsStart, tsEnd, len(ts) * 1024) # Creates the array of timestamps\n",
    "        i = 0\n",
    "        for t in self.ts:\n",
    "            self.ts[i] = t - tsStart # Zero out the timestamps, just makes it look better when graphing/explaining\n",
    "            i = i + 1\n",
    "        self.tsStart = tsStart # Send the ts start to event data\n",
    "        \n",
    "con = Con(data)\n",
    "events = Events(allEvents, con.tsStart)"
   ]
  },
  {
   "cell_type": "markdown",
   "metadata": {},
   "source": [
    "### And we can plot these events on top of our ephys data"
   ]
  },
  {
   "cell_type": "code",
   "execution_count": 48,
   "metadata": {},
   "outputs": [
    {
     "data": {
      "image/png": "[encoded data removed]",
      "text/plain": [
       "<Figure size 432x288 with 1 Axes>"
      ]
     },
     "metadata": {
      "needs_background": "light"
     },
     "output_type": "display_data"
    }
   ],
   "source": [
    "import matplotlib.pyplot as plt\n",
    "plt.plot(con.data[:10000], 'r')\n",
    "plt.axvline(events.ts[0])\n",
    "plt.show()"
   ]
  },
  {
   "cell_type": "code",
   "execution_count": null,
   "metadata": {},
   "outputs": [],
   "source": []
  }
 ],
 "metadata": {
  "kernelspec": {
   "display_name": "Python 3",
   "language": "python",
   "name": "python3"
  },
  "language_info": {
   "codemirror_mode": {
    "name": "ipython",
    "version": 3
   },
   "file_extension": ".py",
   "mimetype": "text/x-python",
   "name": "python",
   "nbconvert_exporter": "python",
   "pygments_lexer": "ipython3",
   "version": "3.6.8"
  }
 },
 "nbformat": 4,
 "nbformat_minor": 2
}
