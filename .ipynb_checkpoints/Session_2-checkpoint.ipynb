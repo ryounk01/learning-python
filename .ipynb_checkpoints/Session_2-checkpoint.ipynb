{
 "cells": [
  {
   "cell_type": "markdown",
   "metadata": {},
   "source": [
    "# Update your repository with new stuff\n",
    "#### Note this is technically not good practice here, but we'll worry about that later\n",
    "\n",
    "- Open git bash to your learning python folder\n",
    "\n",
    "- git checkout -b session2\n",
    "\n",
    "- git remote add upstream https://github.com/tne-lab/learning-python\n",
    "\n",
    "- git fetch upstream\n",
    "\n",
    "- git merge upstream/master --strategy-option theirs\n",
    "\n",
    "### Open Jupyter Notebook and open Session_2.ipynb\n",
    "\n",
    "\n",
    "# Today we will look at events first\n"
   ]
  },
  {
   "cell_type": "code",
   "execution_count": null,
   "metadata": {},
   "outputs": [],
   "source": [
    "import os\n",
    "import OpenEphys\n",
    "\n",
    "cwd = os.getcwd() # Gets your current working directory\n",
    "pathToEvents = cwd + '\\\\data\\\\Sample_Data\\\\all_channels.events' # All events are stored here\n",
    " \n",
    "allEvents = OpenEphys.load(pathToEvents)\n",
    "print('events loaded in!')\n",
    "\n",
    "pathToData = cwd + '\\\\data\\\\Sample_Data\\\\100_CH1.continuous' # You can change this to look at other channels!\n",
    " \n",
    "data = OpenEphys.load(pathToData)\n",
    "print('data loaded in!')"
   ]
  },
  {
   "cell_type": "code",
   "execution_count": null,
   "metadata": {},
   "outputs": [],
   "source": [
    "# What is events?\n",
    "print(type(allEvents))\n",
    "\n",
    "# Lets look at what is stored in here.\n",
    "for key in allEvents.keys():\n",
    "    print(key)"
   ]
  },
  {
   "cell_type": "code",
   "execution_count": null,
   "metadata": {},
   "outputs": [],
   "source": [
    "# Lots of information here\n",
    "print(allEvents['header'])\n",
    "print('-')\n",
    "print(allEvents['eventId']) # we'll look at this later"
   ]
  },
  {
   "cell_type": "markdown",
   "metadata": {},
   "source": [
    "## Challenge 1\n",
    "### Build a class to store event data"
   ]
  },
  {
   "cell_type": "code",
   "execution_count": null,
   "metadata": {},
   "outputs": [],
   "source": [
    "import numpy as np\n",
    "\n",
    "class Events:\n",
    "    # Put code here (use Con class below as a reference!)\n",
    "    \n",
    "class Con:\n",
    "    def __init__(self, data):\n",
    "        self.data = data['data'] # Volatage data\n",
    "        self.fs = float(data['header']['sampleRate']) # Sample Rate\n",
    "        self.interpTs(data['timestamps']) # Interpolate timestamps for all data points (Only has 1 time stamp for each buffer of 1024 data points)\n",
    "\n",
    "    def interpTs(self, ts):\n",
    "        tsStart = ts[0]\n",
    "        tsEnd = ts[len(ts)-1]\n",
    "        self.ts = np.linspace(tsStart, tsEnd, len(ts) * 1024) # Creates the array of timestamps\n",
    "        i = 0\n",
    "        for t in self.ts:\n",
    "            self.ts[i] = t - tsStart # Zero out the timestamps, just makes it look better when graphing/explaining\n",
    "            i = i + 1\n",
    "        self.tsStart = tsStart # Send the ts start to event data\n",
    "        \n",
    "con = Con(data)\n",
    "events = Events(allEvents, con.tsStart)\n",
    "print('Classes finished!')"
   ]
  },
  {
   "cell_type": "markdown",
   "metadata": {},
   "source": [
    "### And we can plot these events on top of our ephys data"
   ]
  },
  {
   "cell_type": "code",
   "execution_count": null,
   "metadata": {},
   "outputs": [],
   "source": [
    "import matplotlib.pyplot as plt\n",
    "plt.plot(con.data[:10000], 'r')\n",
    "plt.axvline(events.ts[0])\n",
    "plt.show()"
   ]
  },
  {
   "cell_type": "markdown",
   "metadata": {},
   "source": [
    "### Let's check out the settings.xml file in Sample_Data"
   ]
  },
  {
   "cell_type": "code",
   "execution_count": null,
   "metadata": {},
   "outputs": [],
   "source": [
    "pathToPhaseCalc = cwd + '\\\\data\\\\Sample_Data\\\\104_CH1.continuous'\n",
    "rawPhase = OpenEphys.load(pathToPhaseCalc)\n",
    "\n",
    "conPhase = Con(rawPhase)\n",
    "print('Phase calc loaded in')"
   ]
  },
  {
   "cell_type": "code",
   "execution_count": null,
   "metadata": {},
   "outputs": [],
   "source": [
    "from scipy import signal\n",
    "def myBandpass(lowcut, highcut, fs, data):\n",
    "    nyq = 0.5 * fs\n",
    "    low = lowcut /nyq\n",
    "    high = highcut /nyq\n",
    "    band = [low, high]\n",
    "    order = 2\n",
    "    b, a = signal.butter(order, band, btype='bandpass')\n",
    "    \n",
    "    filteredData = signal.lfilter(b, a, data)\n",
    "    return filteredData\n",
    "\n",
    "filteredData = myBandpass(4, 8, con.fs, con.data[:10000])"
   ]
  },
  {
   "cell_type": "markdown",
   "metadata": {},
   "source": [
    "### So what is phase?\n",
    "https://en.wikipedia.org/wiki/Phase_(waves)#/media/File:Oscillating_sine_wave.gif"
   ]
  },
  {
   "cell_type": "code",
   "execution_count": null,
   "metadata": {},
   "outputs": [],
   "source": [
    "fig, ax = plt.subplots(1,2)\n",
    "\n",
    "ax[0].plot(conPhase.data[:10000], 'r')\n",
    "ax[0].set_title('Phase of Data')\n",
    "\n",
    "ax[1].plot(filteredData)\n",
    "ax[1].set_title('Filtered Data')\n",
    "\n",
    "fig, ax = plt.subplots(1,1)\n",
    "ax.plot(conPhase.data[:10000], 'r')\n",
    "ax.plot(filteredData)\n"
   ]
  },
  {
   "cell_type": "code",
   "execution_count": null,
   "metadata": {},
   "outputs": [],
   "source": [
    "plt.plot(conPhase.data[:10000], 'r')\n",
    "for ts in events.ts[0:4]:\n",
    "    plt.axvline(ts)\n",
    "plt.show()"
   ]
  },
  {
   "cell_type": "markdown",
   "metadata": {},
   "source": [
    "### Challenge 2\n",
    "\n",
    "Determine the average lag time between the pulse and the stim!"
   ]
  },
  {
   "cell_type": "code",
   "execution_count": null,
   "metadata": {},
   "outputs": [],
   "source": [
    "# Code here\n"
   ]
  },
  {
   "cell_type": "markdown",
   "metadata": {},
   "source": [
    "### Challenge 3\n",
    "\n",
    "Determine the average phase at pulse and stim times and plot a rose plot of the data"
   ]
  },
  {
   "cell_type": "code",
   "execution_count": null,
   "metadata": {},
   "outputs": [],
   "source": [
    "# Rose plot code here (I used google) https://stackoverflow.com/questions/22562364/circular-histogram-for-python\n",
    "def rose_plot(ax, angles, bins=16, density=None, offset=0, lab_unit=\"degrees\",\n",
    "              start_zero=False, **param_dict):\n",
    "    \"\"\"\n",
    "    Plot polar histogram of angles on ax. ax must have been created using\n",
    "    subplot_kw=dict(projection='polar'). Angles are expected in radians.\n",
    "    \"\"\"\n",
    "    # Wrap angles to [-pi, pi)\n",
    "    angles = (angles + np.pi) % (2*np.pi) - np.pi\n",
    "\n",
    "    # Set bins symetrically around zero\n",
    "    if start_zero:\n",
    "        # To have a bin edge at zero use an even number of bins\n",
    "        if bins % 2:\n",
    "            bins += 1\n",
    "        bins = np.linspace(-np.pi, np.pi, num=bins+1)\n",
    "\n",
    "    # Bin data and record counts\n",
    "    count, bin = np.histogram(angles, bins=bins)\n",
    "\n",
    "    # Compute width of each bin\n",
    "    widths = np.diff(bin)\n",
    "\n",
    "    # By default plot density (frequency potentially misleading)\n",
    "    if density is None or density is True:\n",
    "        # Area to assign each bin\n",
    "        area = count / angles.size\n",
    "        # Calculate corresponding bin radius\n",
    "        radius = (area / np.pi)**.5\n",
    "    else:\n",
    "        radius = count\n",
    "\n",
    "    # Plot data on ax\n",
    "    ax.bar(bin[:-1], radius, zorder=1, align='edge', width=widths,\n",
    "           edgecolor='C0', fill=False, linewidth=1)\n",
    "\n",
    "    # Set the direction of the zero angle\n",
    "    ax.set_theta_offset(offset)\n",
    "\n",
    "    # Remove ylabels, they are mostly obstructive and not informative\n",
    "    ax.set_yticks([])\n",
    "\n",
    "    if lab_unit == \"radians\":\n",
    "        label = ['$0$', r'$\\pi/4$', r'$\\pi/2$', r'$3\\pi/4$',\n",
    "                  r'$\\pi$', r'$5\\pi/4$', r'$3\\pi/2$', r'$7\\pi/4$']\n",
    "        ax.set_xticklabels(label)"
   ]
  },
  {
   "cell_type": "code",
   "execution_count": null,
   "metadata": {},
   "outputs": [],
   "source": [
    "# Find average phases and plot them using a rose plot\n",
    "\n",
    "# Your code here\n",
    "\n",
    "# Use this to plot\n",
    "fig, ax = plt.subplots(1, 2, subplot_kw=dict(projection='polar'))\n",
    "\n",
    "rose_plot(ax[0], np.array(crossPhase), bins = 24)\n",
    "rose_plot(ax[1], np.array(stimPhase), bins = 24)\n",
    "ax[0].set_title('crossing times triggers')\n",
    "ax[1].set_title('stim delivery')"
   ]
  },
  {
   "cell_type": "markdown",
   "metadata": {},
   "source": [
    "#### What's the mean and std for the data?"
   ]
  },
  {
   "cell_type": "code",
   "execution_count": null,
   "metadata": {},
   "outputs": [],
   "source": [
    "# Print our the mean and std for crossing and stim times"
   ]
  },
  {
   "cell_type": "markdown",
   "metadata": {},
   "source": [
    "### Challenge 4\n",
    "\n",
    "Let's write the phases to a csv file."
   ]
  },
  {
   "cell_type": "code",
   "execution_count": null,
   "metadata": {},
   "outputs": [],
   "source": [
    "# Code here"
   ]
  }
 ],
 "metadata": {
  "kernelspec": {
   "display_name": "Python 3",
   "language": "python",
   "name": "python3"
  },
  "language_info": {
   "codemirror_mode": {
    "name": "ipython",
    "version": 3
   },
   "file_extension": ".py",
   "mimetype": "text/x-python",
   "name": "python",
   "nbconvert_exporter": "python",
   "pygments_lexer": "ipython3",
   "version": "3.7.3"
  }
 },
 "nbformat": 4,
 "nbformat_minor": 2
}
